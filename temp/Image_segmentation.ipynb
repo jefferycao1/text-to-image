{
 "cells": [
  {
   "cell_type": "code",
   "execution_count": null,
   "metadata": {},
   "outputs": [],
   "source": [
    "import sys\n",
    "\n",
    "sys.path.append('../src')\n",
    "sys.path.append('../tests')"
   ]
  },
  {
   "cell_type": "code",
   "execution_count": null,
   "metadata": {},
   "outputs": [],
   "source": [
    "import os\n",
    "import gc\n",
    "import bcolz\n",
    "import numpy as np\n",
    "import pandas as pd\n",
    "import seaborn as sns\n",
    "import tensorflow as tf\n",
    "import matplotlib.pyplot as plt\n",
    "import matplotlib.image as mpimg\n",
    "from keras.optimizers import Adam\n",
    "from keras.callbacks import ModelCheckpoint, EarlyStopping, ReduceLROnPlateau, History\n",
    "import vgg16\n",
    "import data_helper\n",
    "from data_helper import AmazonPreprocessor\n",
    "from PIL import Image\n",
    "# from kaggle_data.downloader import KaggleDataDownloader\n",
    "\n",
    "%matplotlib inline\n",
    "%config InlineBackend.figure_format = 'retina'"
   ]
  },
  {
   "cell_type": "code",
   "execution_count": null,
   "metadata": {},
   "outputs": [],
   "source": [
    "train_jpeg_dir, test_jpeg_dir, test_jpeg_additional, train_csv_file = data_helper.get_jpeg_data_files_paths()\n",
    "labels_df = pd.read_csv(train_csv_file)\n",
    "labels_df.head()"
   ]
  },
  {
   "cell_type": "code",
   "execution_count": null,
   "metadata": {},
   "outputs": [],
   "source": [
    "# Print all unique tags\n",
    "from itertools import chain\n",
    "labels_list = list(chain.from_iterable([tags.split(\" \") for tags in labels_df['tags'].values]))\n",
    "labels_set = set(labels_list)\n",
    "print(\"There is {} unique labels including {}\".format(len(labels_set), labels_set))"
   ]
  },
  {
   "cell_type": "code",
   "execution_count": null,
   "metadata": {},
   "outputs": [],
   "source": [
    "# Histogram of label instances\n",
    "labels_s = pd.Series(labels_list).value_counts() # To sort them by count\n",
    "fig, ax = plt.subplots(figsize=(16, 8))\n",
    "sns.barplot(x=labels_s, y=labels_s.index, orient='h')\n"
   ]
  },
  {
   "cell_type": "code",
   "execution_count": null,
   "metadata": {},
   "outputs": [],
   "source": [
    "labels_df.columns"
   ]
  },
  {
   "cell_type": "code",
   "execution_count": null,
   "metadata": {},
   "outputs": [],
   "source": [
    "artisianmining = []\n",
    "primary = []\n",
    "clear = []\n",
    "slash_burn = []\n",
    "agriculture = []\n",
    "train_jpeg_dir \n",
    "total = 0\n",
    "\n",
    "for index, row in labels_df.iterrows():\n",
    "    tags = row[\"tags\"].split()\n",
    "    \n",
    "    for tag in tags:\n",
    "        if (tag == \"artisinal_mine\"):\n",
    "            total += 1\n",
    "            artisianmining.append(row[\"image_name\"])\n",
    "        if (tag == \"primary\"):\n",
    "            primary.append(row[\"image_name\"])\n",
    "            \n",
    "        if (tag == \"slash_burn\"):\n",
    "            slash_burn.append(row[\"image_name\"])\n",
    "            \n",
    "        if (tag == \"clear\"):\n",
    "            clear.append(row[\"image_name\"])\n",
    "        \n",
    "        if (tag == \"agriculture\"):\n",
    "            agriculture.append(row[\"image_name\"])\n",
    "    "
   ]
  },
  {
   "cell_type": "code",
   "execution_count": null,
   "metadata": {},
   "outputs": [],
   "source": [
    "def crop(im,height,width):\n",
    "    # im = Image.open(infile)\n",
    "    imgwidth, imgheight = im.size\n",
    "    for i in range(int(imgheight//height)):\n",
    "        for j in range(int(imgwidth//width)):\n",
    "            # print (i,j)\n",
    "            box = (j*width, i*height, (j+1)*width, (i+1)*height)\n",
    "            yield im.crop(box)"
   ]
  },
  {
   "cell_type": "code",
   "execution_count": null,
   "metadata": {},
   "outputs": [],
   "source": [
    "# metadata = pd.DataFrame(columns = [\"newimage\", \"oldimage\", \"class\"])\n",
    "metadata = pd.read_csv(\"metadata.csv\")"
   ]
  },
  {
   "cell_type": "code",
   "execution_count": null,
   "metadata": {},
   "outputs": [],
   "source": [
    "%pylab inline\n",
    "import matplotlib.pyplot as plt\n",
    "import matplotlib.image as mpimg"
   ]
  },
  {
   "cell_type": "code",
   "execution_count": null,
   "metadata": {},
   "outputs": [],
   "source": [
    "# image_slicer.slice(image_location, 4)"
   ]
  },
  {
   "cell_type": "code",
   "execution_count": null,
   "metadata": {},
   "outputs": [],
   "source": [
    "# imgplot = plt.imshow(im)\n",
    "# plt.show()"
   ]
  },
  {
   "cell_type": "code",
   "execution_count": null,
   "metadata": {},
   "outputs": [],
   "source": [
    "# Histogram of label instances\n",
    "labels_s = pd.Series(labels_list).value_counts() # To sort them by count\n",
    "fig, ax = plt.subplots(figsize=(16, 8))\n",
    "sns.barplot(x=labels_s, y=labels_s.index, orient='h')"
   ]
  },
  {
   "cell_type": "code",
   "execution_count": null,
   "metadata": {},
   "outputs": [],
   "source": [
    "def relabel_unknown():\n",
    "    class_dict = {1: \"primary\", 2: \"clear\", 3: \"artisinal_mine\", \n",
    "                  4: \"agriculture\", 5: \"road\", 6: \"water\", 7: \"partly_cloudy\", \n",
    "                  8: \"cloudy\", 9: \"habitation\", 10: \"haze\", \n",
    "                  11: \"bare_ground\", 12: \"selective_logging\", 13: \"blooming\", \n",
    "                  14: \"slash_burn\", 15: \"blow_down\", 16: \"conventional_mine\", \n",
    "                  17: \"cultivation\"}\n",
    "    \n",
    "    \n",
    "    for image in artisianmining:\n",
    "        image_location = train_jpeg_dir + \"/\" + image + \".jpg\"\n",
    "        im = Image.open(image_location)\n",
    "        \n",
    "        quadrant = 1\n",
    "        metadata = pd.read_csv(\"metadata.csv\")\n",
    "        if image in metadata[\"oldimage\"].values:\n",
    "            print(\"seen image: continuing....\")\n",
    "            continue\n",
    "        \n",
    "        print(\"unseen image: \", image)\n",
    "        \n",
    "        for i in range(0, 256, 128):\n",
    "            for j in range(0, 256, 128):\n",
    "                box = (int(i), int(j), int(i + 128), int(j + 128))\n",
    "                croppedimage = im.crop(box)\n",
    "\n",
    "                dest = \"new_images/\" + image + \"_\" + str(quadrant) + \".jpg\"\n",
    "                croppedimage.resize((128, 128))\n",
    "                croppedimage.save(dest)\n",
    "                quadrant += 1\n",
    "                imgplot = plt.imshow(croppedimage)\n",
    "                plt.show()\n",
    "                print(\"codes: \", class_dict)\n",
    "                class_num = int(input())\n",
    "                row = {\"newimage\": image + \"_\" + str(quadrant), \"oldimage\": image, \"class\": class_dict[class_num]}\n",
    "                print(row)\n",
    "        \n",
    "                metadata = metadata.append(row, ignore_index = True)\n",
    "                metadata.to_csv(\"metadata.csv\", index = False)\n",
    "                print(\"adding row to metadata.csv\")\n"
   ]
  },
  {
   "cell_type": "code",
   "execution_count": null,
   "metadata": {},
   "outputs": [],
   "source": [
    "relabel_unknown()"
   ]
  },
  {
   "cell_type": "code",
   "execution_count": null,
   "metadata": {},
   "outputs": [],
   "source": [
    "def relabel_primary():\n",
    "    class_dict = {1: \"primary\", 2: \"clear\", 3: \"artisinal_mine\", \n",
    "                  4: \"agriculture\", 5: \"road\", 6: \"water\", 7: \"partly_cloudy\", \n",
    "                  8: \"cloudy\", 9: \"habitation\", 10: \"haze\", \n",
    "                  11: \"bare_ground\", 12: \"selective_logging\", 13: \"blooming\", \n",
    "                  14: \"slash_burn\", 15: \"blow_down\", 16: \"conventional_mine\", \n",
    "                  17: \"cultivation\"}\n",
    "    \n",
    "    \n",
    "    for image in primary:\n",
    "        image_location = train_jpeg_dir + \"/\" + image + \".jpg\"\n",
    "        im = Image.open(image_location)\n",
    "        \n",
    "        quadrant = 1\n",
    "        metadata = pd.read_csv(\"metadata.csv\")\n",
    "        if image in metadata[\"oldimage\"].values:\n",
    "            print(\"seen image: continuing....\")\n",
    "            continue\n",
    "        \n",
    "        print(\"unseen image: \", image)\n",
    "        \n",
    "        for i in range(0, 256, 128):\n",
    "            for j in range(0, 256, 128):\n",
    "                box = (int(i), int(j), int(i + 128), int(j + 128))\n",
    "                croppedimage = im.crop(box)\n",
    "\n",
    "                dest = \"new_images/\" + image + \"_\" + str(quadrant) + \".jpg\"\n",
    "                croppedimage.resize((128, 128))\n",
    "                croppedimage.save(dest)\n",
    "                quadrant += 1\n",
    "                imgplot = plt.imshow(croppedimage)\n",
    "                plt.show()\n",
    "                print(\"codes: \", class_dict)\n",
    "                class_num = int(input())\n",
    "                row = {\"newimage\": image + \"_\" + str(quadrant), \"oldimage\": image, \"class\": class_dict[class_num]}\n",
    "                print(row)\n",
    "        \n",
    "                metadata = metadata.append(row, ignore_index = True)\n",
    "                metadata.to_csv(\"metadata.csv\", index = False)\n",
    "                print(\"adding row to metadata.csv\")\n"
   ]
  },
  {
   "cell_type": "code",
   "execution_count": null,
   "metadata": {},
   "outputs": [],
   "source": [
    "relabel_primary()"
   ]
  },
  {
   "cell_type": "code",
   "execution_count": null,
   "metadata": {},
   "outputs": [],
   "source": [
    "metadata = pd.read_csv(\"metadata.csv\")"
   ]
  },
  {
   "cell_type": "code",
   "execution_count": null,
   "metadata": {},
   "outputs": [],
   "source": [
    "metadata"
   ]
  },
  {
   "cell_type": "code",
   "execution_count": null,
   "metadata": {},
   "outputs": [],
   "source": [
    "# image = \"train_57\"\n",
    "# image_location = train_jpeg_dir + \"/\" + image + \".jpg\"\n",
    "# im = Image.open(image_location)\n",
    "# imgwidth, imgheight = im.size\n",
    "# print('Image size is: %d x %d ' % (imgwidth, imgheight))\n",
    "# # height = int(imgheight/2)\n",
    "# # width =  int(imgwidth/2)\n",
    "# # start_num = 0\n",
    "\n",
    "\n",
    "# class_dict = {1: \"primary\", 2: \"clear\", 3: \"artisinal_mine\"}\n",
    "# quadrant = 1\n",
    "# for i in range(0, 256, 128):\n",
    "#     for j in range(0, 256, 128):\n",
    "#         box = (int(i), int(j), int(i + 128), int(j + 128))\n",
    "#         print(box)\n",
    "#         croppedimage = im.crop(box)\n",
    "        \n",
    "#         dest = \"new_images/\" + image + \"_\" + str(quadrant) + \".jpg\"\n",
    "# #         croppedimage.convert('RGB')\n",
    "#         croppedimage.resize((128, 128))\n",
    "#         croppedimage.save(dest)\n",
    "#         quadrant += 1\n",
    "#         imgplot = plt.imshow(croppedimage)\n",
    "#         plt.show()\n",
    "        \n",
    "#         class_num = int(input())\n",
    "#         row = {\"newimage\": image + \"_\" + str(quadrant), \"oldimage\": image, \"class\": class_dict[class_num]}\n",
    "#         print(row)\n",
    "        \n",
    "        \n",
    "        \n",
    "\n",
    "        \n",
    "\n",
    "# # for k,piece in enumerate(crop(im,height,width),start_num):\n",
    "# #     # print k\n",
    "# #     # print piece\n",
    "# #     img=Image.new('RGB', (width,height), 255)\n",
    "# #     imgplot = plt.imshow(img)\n",
    "# #     plt.show()\n",
    "# #     # print img\n",
    "# # #     img.paste(piece)\n",
    "# # #     path = os.path.join(\"cam%d_1%05d.tif\" % (int(k+1),filenum))\n",
    "# # #     img.save(path)\n",
    "# # #     os.rename(path,os.path.join(\"cam%d.1%05d\" % (int(k+1),filenum)))\n",
    "            "
   ]
  },
  {
   "cell_type": "code",
   "execution_count": null,
   "metadata": {},
   "outputs": [],
   "source": [
    "row = {\"newimage\": \"train_57_1\", \"oldimage\": \"train_57\", \"class\": \"artisian_mining\"}\n",
    "metadata = metadata.append(row, ignore_index = True)"
   ]
  },
  {
   "cell_type": "code",
   "execution_count": null,
   "metadata": {},
   "outputs": [],
   "source": [
    "img_resize = (128, 128) # The resize size of each image ex: (64, 64) or None to use the default image size\n",
    "validation_split_size = 0.2"
   ]
  },
  {
   "cell_type": "code",
   "execution_count": null,
   "metadata": {},
   "outputs": [],
   "source": [
    "preprocessor = AmazonPreprocessor(train_jpeg_dir, train_csv_file, test_jpeg_dir, test_jpeg_additional, \n",
    "                                  img_resize, validation_split_size)\n",
    "preprocessor.init()"
   ]
  },
  {
   "cell_type": "code",
   "execution_count": null,
   "metadata": {},
   "outputs": [],
   "source": []
  }
 ],
 "metadata": {
  "kernelspec": {
   "display_name": "Python 3",
   "language": "python",
   "name": "python3"
  },
  "language_info": {
   "codemirror_mode": {
    "name": "ipython",
    "version": 3
   },
   "file_extension": ".py",
   "mimetype": "text/x-python",
   "name": "python",
   "nbconvert_exporter": "python",
   "pygments_lexer": "ipython3",
   "version": "3.6.9"
  }
 },
 "nbformat": 4,
 "nbformat_minor": 2
}
